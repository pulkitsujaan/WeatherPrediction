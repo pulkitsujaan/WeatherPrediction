{
 "cells": [
  {
   "cell_type": "markdown",
   "id": "4063306f-41a1-4221-a9bb-d8d0fa0548c8",
   "metadata": {},
   "source": [
    "# Importing data"
   ]
  },
  {
   "cell_type": "code",
   "execution_count": null,
   "id": "50b8b39c-124c-4504-9448-4e4474f4ed64",
   "metadata": {},
   "outputs": [],
   "source": [
    "import pandas as pd\n",
    "\n",
    "weather = pd.read_csv('weather.csv', index_col=\"DATE\")"
   ]
  },
  {
   "cell_type": "code",
   "execution_count": null,
   "id": "270bace3-1940-4efa-bbca-cb9936135193",
   "metadata": {},
   "outputs": [],
   "source": [
    "weather"
   ]
  },
  {
   "cell_type": "markdown",
   "id": "934783fb-0183-452a-b8b3-6218de96348d",
   "metadata": {},
   "source": [
    "# Cleaning the Data"
   ]
  },
  {
   "cell_type": "code",
   "execution_count": null,
   "id": "1e2b9e01-dbe4-44e6-888d-f89851d66ea7",
   "metadata": {},
   "outputs": [],
   "source": [
    "null_pct = weather.apply(pd.isnull).sum()/weather.shape[0]\n",
    "null_pct"
   ]
  },
  {
   "cell_type": "code",
   "execution_count": null,
   "id": "ccdf4ef5-b500-4eed-8682-3937f7b5e0cb",
   "metadata": {},
   "outputs": [],
   "source": [
    "valid_columns = weather.columns[null_pct < .05]\n",
    "\n",
    "valid_columns"
   ]
  },
  {
   "cell_type": "code",
   "execution_count": null,
   "id": "affdd0a8-f009-458a-9bb6-fe3ffcb38493",
   "metadata": {},
   "outputs": [],
   "source": [
    "weather = weather[valid_columns].copy()"
   ]
  },
  {
   "cell_type": "code",
   "execution_count": null,
   "id": "b627e5e3-7be3-487c-8d8a-6c2a5ad1dc75",
   "metadata": {},
   "outputs": [],
   "source": [
    "weather.columns = weather.columns.str.lower()"
   ]
  },
  {
   "cell_type": "code",
   "execution_count": null,
   "id": "27cfbc06-3320-4c58-8090-6a90fe70f537",
   "metadata": {},
   "outputs": [],
   "source": [
    "weather"
   ]
  },
  {
   "cell_type": "markdown",
   "id": "14183aec-a4be-45af-bc41-0ecf3bb8b953",
   "metadata": {},
   "source": [
    "# Checking the Data"
   ]
  },
  {
   "cell_type": "code",
   "execution_count": null,
   "id": "178ecb83-a021-4806-924d-d0b433ff75d8",
   "metadata": {},
   "outputs": [],
   "source": [
    "weather = weather.ffill() #filling all the empty entries"
   ]
  },
  {
   "cell_type": "code",
   "execution_count": null,
   "id": "b234fb62-889e-4c18-9476-1077770aa561",
   "metadata": {},
   "outputs": [],
   "source": [
    "weather.apply(pd.isnull).sum() #checking if all the entries are filled"
   ]
  },
  {
   "cell_type": "code",
   "execution_count": null,
   "id": "618e245c-f4c2-47e8-b815-9b4ff02058f8",
   "metadata": {},
   "outputs": [],
   "source": [
    "weather.dtypes #checking data types"
   ]
  },
  {
   "cell_type": "code",
   "execution_count": null,
   "id": "a0e39632-f842-45c2-bc34-c83b7757d18d",
   "metadata": {},
   "outputs": [],
   "source": [
    "weather.index #checking indices of columns"
   ]
  },
  {
   "cell_type": "code",
   "execution_count": null,
   "id": "873e5711-9425-4af0-bb92-73db428a32aa",
   "metadata": {},
   "outputs": [],
   "source": [
    "weather.index = pd.to_datetime(weather.index)"
   ]
  },
  {
   "cell_type": "code",
   "execution_count": null,
   "id": "45077fea-7e78-4693-add9-ab69d60776f8",
   "metadata": {},
   "outputs": [],
   "source": [
    "weather.index"
   ]
  },
  {
   "cell_type": "code",
   "execution_count": null,
   "id": "0e045534-0248-4afc-b0a5-26da59f00627",
   "metadata": {},
   "outputs": [],
   "source": [
    "weather.index.year"
   ]
  },
  {
   "cell_type": "code",
   "execution_count": null,
   "id": "56d46c9b-6a20-42fb-84b6-a5779e66d3af",
   "metadata": {},
   "outputs": [],
   "source": [
    "weather.index.year.value_counts().sort_index()#checking gaps in the data"
   ]
  },
  {
   "cell_type": "code",
   "execution_count": null,
   "id": "d5cf2a57-bb60-4701-b74c-597cb19ec5f6",
   "metadata": {},
   "outputs": [],
   "source": [
    "weather['snwd'].plot()"
   ]
  },
  {
   "cell_type": "code",
   "execution_count": null,
   "id": "59e0ed10-3433-4602-af69-2fd72f860db5",
   "metadata": {},
   "outputs": [],
   "source": [
    "weather"
   ]
  },
  {
   "cell_type": "code",
   "execution_count": null,
   "id": "a0a1537c-faad-427d-b2c4-a38fcce0c7e5",
   "metadata": {},
   "outputs": [],
   "source": [
    "weather['target'] = weather.shift(-1)[\"tmax\"]"
   ]
  },
  {
   "cell_type": "code",
   "execution_count": null,
   "id": "2aa254a6-1b6c-412a-bbb7-7b577e7bc5ee",
   "metadata": {},
   "outputs": [],
   "source": [
    "weather"
   ]
  },
  {
   "cell_type": "code",
   "execution_count": null,
   "id": "70bbc5dc-eab2-4327-9b10-a051c66d96ee",
   "metadata": {},
   "outputs": [],
   "source": [
    "weather = weather.ffill()"
   ]
  },
  {
   "cell_type": "code",
   "execution_count": null,
   "id": "55da21a7-9106-4d15-8c7a-af10b9ddfac4",
   "metadata": {},
   "outputs": [],
   "source": [
    "weather"
   ]
  },
  {
   "cell_type": "code",
   "execution_count": null,
   "id": "0cf22828-80af-4e59-9f7a-e3313cc0aa39",
   "metadata": {},
   "outputs": [],
   "source": [
    "weather[['prcp', 'snow', 'snwd', 'tmax', 'tmin', 'target']].corr() #finding correlation between data"
   ]
  },
  {
   "cell_type": "markdown",
   "id": "2f49d343-a0da-417f-9887-61b8bbbafeaf",
   "metadata": {},
   "source": [
    "# Building the Model"
   ]
  },
  {
   "cell_type": "code",
   "execution_count": null,
   "id": "de7f8cf4-b583-440b-aa7e-78b47a91d096",
   "metadata": {},
   "outputs": [],
   "source": [
    "#Ridge regression is similar to linear regression except it penalizes cofficients to account for multi-coll\n",
    "from sklearn.linear_model import Ridge\n",
    "\n",
    "'''\n",
    "The parameter alpha is replacement of lambda (which is a reserved keyword in python and cannot be used in  Ridge regression).\n",
    "The alpha parameter controls how much the coefficients are shrunk to account for collinearity\n",
    "'''\n",
    "rr = Ridge(alpha=.1)"
   ]
  },
  {
   "cell_type": "code",
   "execution_count": null,
   "id": "b783e864-2266-440d-b75d-d0d34c3f04b3",
   "metadata": {},
   "outputs": [],
   "source": [
    "# these are the columns that will be used to predict the target\n",
    "predictors = weather.columns[~weather.columns.isin(['target', 'name', 'station'])]"
   ]
  },
  {
   "cell_type": "code",
   "execution_count": null,
   "id": "dbd9859c-91b9-413d-93c8-3236a1b63be0",
   "metadata": {},
   "outputs": [],
   "source": [
    "predictors"
   ]
  },
  {
   "cell_type": "raw",
   "id": "d9e6a6ab-39fd-4db0-a5b1-864b8da2654a",
   "metadata": {},
   "source": [
    "NOTE:\n",
    "\n",
    "Typically when you try to estimate the  error of a machine learning model you can use cross-validation except with time series data. With time series data, we need to be really careful not to use future data to predict the past so  we need to actually use a special technique called back testing or time series cross-validation to account for the time series nature of the data."
   ]
  },
  {
   "cell_type": "code",
   "execution_count": null,
   "id": "68f6aa74-2e5f-4e2c-8e78-fcfc2854d006",
   "metadata": {},
   "outputs": [],
   "source": [
    "def backtest(weather, model, predictors, start=3650, step=90):\n",
    "    '''\n",
    "    This function takes our data, our ridge regression model, our list of predictions, and a start point of 10 years when the model starts making \n",
    "    predictions, and step parameter defines how much data is taken for one set of prediciton(here 90 days)\n",
    "    '''\n",
    "    all_predictions = [] #each element in this list will be a dataframe that has prediction for 90 days\n",
    "\n",
    "    for i in range(start, weather.shape[0], step):\n",
    "        train = weather.iloc[:i,:]\n",
    "        test = weather.iloc[:(i+step),:]\n",
    "\n",
    "        model.fit(train[predictors], train['target'])#fit the model\n",
    "        \n",
    "        preds = model.predict(test[predictors])\n",
    "        preds = pd.Series(preds, index=test.index)#converting the predictions from numpy array to pandas series\n",
    "        combined = pd.concat([test[\"target\"],preds],axis=1) #this method combines multiple dataframes or series in one\n",
    "\n",
    "        combined.columns = ['actual','prediction']\n",
    "\n",
    "        combined[\"diff\"] = (combined[\"prediction\"] - combined[\"actual\"]).abs() #difference in predicted and actual values\n",
    "\n",
    "        all_predictions.append(combined)\n",
    "\n",
    "    return pd.concat(all_predictions)"
   ]
  },
  {
   "cell_type": "code",
   "execution_count": null,
   "id": "4977f172-728a-4b94-8cde-8494d1473dcc",
   "metadata": {},
   "outputs": [],
   "source": [
    "predictions = backtest(weather,rr,predictors)"
   ]
  },
  {
   "cell_type": "code",
   "execution_count": null,
   "id": "c9484cf1-dff0-4cd5-9e99-aff010c52c81",
   "metadata": {},
   "outputs": [],
   "source": [
    "predictions"
   ]
  },
  {
   "cell_type": "markdown",
   "id": "8e0f43c9-5cba-43f4-ac45-035cd97623e6",
   "metadata": {},
   "source": [
    "#### Testing the accuracy"
   ]
  },
  {
   "cell_type": "code",
   "execution_count": null,
   "id": "92c5b35e-4957-4574-9371-7ab389da48ec",
   "metadata": {},
   "outputs": [],
   "source": [
    "# Root Mean Squared Error\n",
    "import numpy as np\n",
    "def rmse(predictions, targets):\n",
    "    return np.sqrt(((predictions - targets) ** 2).mean())\n",
    "rmse(predictions[\"actual\"],predictions[\"prediction\"])\n",
    "\n",
    "# Mean Absolute Error\n",
    "predictions[\"diff\"].mean()"
   ]
  },
  {
   "cell_type": "markdown",
   "id": "6df1eba1-228f-4e56-8a39-df6792f9570c",
   "metadata": {},
   "source": [
    "# Adding more Predictors"
   ]
  },
  {
   "cell_type": "code",
   "execution_count": null,
   "id": "e1cf867e-0e03-4937-9534-76e681a5492d",
   "metadata": {},
   "outputs": [],
   "source": [
    "#This function calculates the Percentage difference\n",
    "def pct_diff(old, new):\n",
    "    return (new-old) / old\n",
    "\n",
    "#This function does average of the values in a specified horizon(time period)\n",
    "def compute_rolling(weather, horizon, col):\n",
    "    label = f\"rolling_{horizon}_{col}\" #creates a column name\n",
    "\n",
    "    weather[label] = weather[col].rolling(horizon).mean()\n",
    "    weather[f'{label}_pct'] = pct_diff(weather[label],weather[col])\n",
    "    return weather\n",
    "\n",
    "rolling_horizons = [3,14]\n",
    "\n",
    "for horizon in rolling_horizons:\n",
    "    for col in ['tmax','tmin','prcp']:\n",
    "        weather = compute_rolling(weather , horizon, col)\n"
   ]
  },
  {
   "cell_type": "code",
   "execution_count": null,
   "id": "31f72ffd-b82b-44d8-8e18-4fc1dfe06bb7",
   "metadata": {},
   "outputs": [],
   "source": [
    "weather"
   ]
  },
  {
   "cell_type": "code",
   "execution_count": null,
   "id": "c8e3f85a-36af-4ff1-9591-2ba89e8ac623",
   "metadata": {},
   "outputs": [],
   "source": [
    "weather = weather.iloc[14:,:] #removing empty entries"
   ]
  },
  {
   "cell_type": "code",
   "execution_count": null,
   "id": "57965e57-e9b4-46a4-a12e-11d71c0637bc",
   "metadata": {},
   "outputs": [],
   "source": [
    "weather = weather.fillna(0) #filling 0 as the value for remaining entries\n",
    "weather.index.month"
   ]
  },
  {
   "cell_type": "code",
   "execution_count": null,
   "id": "f5ae8efa-dda8-4933-b9cc-3f4095281b20",
   "metadata": {},
   "outputs": [],
   "source": [
    "#See documentation for expanding, it just adds the upper value to the current value\n",
    "def expand_mean(df):\n",
    "    return df.expanding(1).mean()\n",
    "\n",
    "for col in [\"tmax\", \"tmin\", \"prcp\"]:\n",
    "    weather[f\"month_avg_{col}\"] = weather[col].groupby(weather.index.month, group_keys=False).apply(expand_mean)#this takes all the days from specific month, like 1 january 1970, then 1 Jan 1971, and so on\n",
    "    weather[f\"day_avg_{col}\"] = weather[col].groupby(weather.index.day_of_year, group_keys=False).apply(expand_mean)#this takes all the days from years,like Date 1 from all months and years, date 2 from all months and years and so on"
   ]
  },
  {
   "cell_type": "code",
   "execution_count": null,
   "id": "0ed38800-89f0-45e8-a6e2-29a67154fc12",
   "metadata": {},
   "outputs": [],
   "source": [
    "weather"
   ]
  },
  {
   "cell_type": "markdown",
   "id": "31a2b07c-d9ff-4487-85a6-e1aff267f853",
   "metadata": {},
   "source": [
    "### Doing Predictions again"
   ]
  },
  {
   "cell_type": "code",
   "execution_count": null,
   "id": "849a3248-7c08-459b-8761-4dcffbab3b49",
   "metadata": {},
   "outputs": [],
   "source": [
    "predictors = weather.columns[~weather.columns.isin(['target', 'name', 'station'])]"
   ]
  },
  {
   "cell_type": "code",
   "execution_count": null,
   "id": "f2c8f3d3-d3e1-45c1-9abf-ab4d0790343c",
   "metadata": {},
   "outputs": [],
   "source": [
    "predictors"
   ]
  },
  {
   "cell_type": "code",
   "execution_count": null,
   "id": "796639be-e705-4d93-95e3-98f7727eab80",
   "metadata": {},
   "outputs": [],
   "source": [
    "predictions = backtest(weather, rr, predictors)"
   ]
  },
  {
   "cell_type": "code",
   "execution_count": null,
   "id": "f6335ef6-ec09-43e2-a92f-f991f1f93421",
   "metadata": {},
   "outputs": [],
   "source": [
    "from sklearn.metrics import mean_absolute_error\n",
    "mean_absolute_error(predictions['actual'], predictions['prediction'])"
   ]
  },
  {
   "cell_type": "code",
   "execution_count": null,
   "id": "1ce64bb6-04b9-4c94-830d-49453b14de9e",
   "metadata": {},
   "outputs": [],
   "source": [
    "predictions.sort_values('diff',ascending=False)"
   ]
  },
  {
   "cell_type": "code",
   "execution_count": null,
   "id": "4cdcb45b-7b92-437e-b526-7d43f1274e48",
   "metadata": {},
   "outputs": [],
   "source": [
    "weather.loc[\"1990-03-07\":\"1990-03-17\"]"
   ]
  },
  {
   "cell_type": "code",
   "execution_count": null,
   "id": "f1242fa1-bd75-442e-8a09-9eb9b0ea9fee",
   "metadata": {},
   "outputs": [],
   "source": [
    "predictions['diff'].round().value_counts().sort_index().plot()"
   ]
  },
  {
   "cell_type": "code",
   "execution_count": null,
   "id": "8d16aa2b-f2d9-4820-9f91-764cb6c5c02b",
   "metadata": {},
   "outputs": [],
   "source": []
  }
 ],
 "metadata": {
  "kernelspec": {
   "display_name": "Python 3 (ipykernel)",
   "language": "python",
   "name": "python3"
  },
  "language_info": {
   "codemirror_mode": {
    "name": "ipython",
    "version": 3
   },
   "file_extension": ".py",
   "mimetype": "text/x-python",
   "name": "python",
   "nbconvert_exporter": "python",
   "pygments_lexer": "ipython3",
   "version": "3.12.1"
  }
 },
 "nbformat": 4,
 "nbformat_minor": 5
}
